{
 "cells": [
  {
   "cell_type": "code",
   "execution_count": 5,
   "metadata": {},
   "outputs": [],
   "source": [
    "import spacy\n",
    "from spacy.matcher import Matcher \n",
    "from spacy.tokens import Span \n",
    "from spacy import displacy\n",
    "import spacy\n",
    "import neuralcoref\n",
    "from spacy.tokens import Token"
   ]
  },
  {
   "cell_type": "code",
   "execution_count": 3,
   "metadata": {},
   "outputs": [],
   "source": [
    "nlp = spacy.load(\"en_core_web_sm\")"
   ]
  },
  {
   "cell_type": "code",
   "execution_count": 1,
   "metadata": {},
   "outputs": [
    {
     "name": "stdout",
     "output_type": "stream",
     "text": [
      "#class=\"intensifier_adv\"\n",
      "@INTENSADV1={absolutely, absurdly, resoundingly, amazingly, awfully, extremely, completely, highly, incredibly, perfectly, quite, really, strikingly, surprisingly, terribly, totally, unbelievably, hugely, unnaturally, unusually, utterly, very, tremendously, spectacularly}\n",
      "@INTENSADJ1={absolute, extreme, incredible, perfect, phenomenal, spectacular, huge, major, tremendous, complete, considerable, real, terrible, total, unbelievable, utter, great, resounding}\n",
      "\n"
     ]
    }
   ],
   "source": [
    "with open('intensifiers.tff') as f:\n",
    "    content = f.read()\n",
    "    print(content)"
   ]
  },
  {
   "cell_type": "code",
   "execution_count": 6,
   "metadata": {},
   "outputs": [],
   "source": [
    "intensifier_adv = lambda token: token.text in ('absolutely', 'absurdly', 'resoundingly', 'amazingly', \n",
    "                                               'awfully', 'extremely', 'completely', 'highly', 'incredibly', \n",
    "                                               'perfectly', 'quite', 'really', 'strikingly', 'surprisingly', \n",
    "                                               'terribly', 'totally', 'unbelievably', 'hugely', 'unnaturally', \n",
    "                                               'unusually', 'utterly', 'very', 'tremendously', 'spectacularly')\n",
    "\n",
    "intensifier_adj = lambda token: token.text in ('absolute', 'extreme', 'incredible', 'perfect', 'phenomenal', \n",
    "                                               'spectacular', 'huge', 'major', 'tremendous', 'complete', 'considerable',\n",
    "                                               'real', 'terrible', 'total', 'unbelievable', 'utter', 'great', 'resounding')\n",
    "\n",
    "Token.set_extension(\"is_intensifier_adv\", getter=intensifier_adv)\n",
    "Token.set_extension(\"is_intensifier_adj\", getter=intensifier_adj)"
   ]
  },
  {
   "cell_type": "code",
   "execution_count": 12,
   "metadata": {},
   "outputs": [
    {
     "data": {
      "text/plain": [
       "True"
      ]
     },
     "execution_count": 12,
     "metadata": {},
     "output_type": "execute_result"
    }
   ],
   "source": [
    "doc = nlp(\"I have an incredible apple\")\n",
    "doc[3]._.is_intensifier_adj"
   ]
  }
 ],
 "metadata": {
  "kernelspec": {
   "display_name": "Python 3",
   "language": "python",
   "name": "python3"
  },
  "language_info": {
   "codemirror_mode": {
    "name": "ipython",
    "version": 3
   },
   "file_extension": ".py",
   "mimetype": "text/x-python",
   "name": "python",
   "nbconvert_exporter": "python",
   "pygments_lexer": "ipython3",
   "version": "3.7.4"
  }
 },
 "nbformat": 4,
 "nbformat_minor": 2
}
