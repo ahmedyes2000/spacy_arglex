{
 "cells": [
  {
   "cell_type": "code",
   "execution_count": 28,
   "metadata": {},
   "outputs": [],
   "source": [
    "import spacy\n",
    "from spacy.matcher import PhraseMatcher\n",
    "from spacy.tokens import Span, Doc"
   ]
  },
  {
   "cell_type": "code",
   "execution_count": 40,
   "metadata": {},
   "outputs": [],
   "source": [
    "Span.set_extension(\"Authority\", default = None, force = True)\n",
    "Doc.set_extension(\"opinion\", default = [], force = True)"
   ]
  },
  {
   "cell_type": "code",
   "execution_count": 45,
   "metadata": {},
   "outputs": [],
   "source": [
    "class Authority(object):\n",
    "\n",
    "    def __init__(self, object):\n",
    "        self.matcher = PhraseMatcher(object.vocab, attr=\"LOWER\")\n",
    "        terms = [\"according to\"]\n",
    "        patterns = [nlp.make_doc(text) for text in terms]\n",
    "        self.matcher.add(\"Authority\", None, *patterns)\n",
    "\n",
    "    def __call__(self, doc):\n",
    "        matches = self.matcher(doc)\n",
    "        for match_id, start, end in matches:\n",
    "            sents = Span(doc, start, end).sent\n",
    "            sent_start, sent_end = sents.start, sents.end\n",
    "            opinion = Span(doc, sent_start, sent_end, label = \"AUTH\")\n",
    "            doc._.opinion.append(opinion,)\n",
    "        return doc"
   ]
  },
  {
   "cell_type": "code",
   "execution_count": 46,
   "metadata": {},
   "outputs": [],
   "source": [
    "nlp = spacy.load('en_core_web_sm')"
   ]
  },
  {
   "cell_type": "code",
   "execution_count": 47,
   "metadata": {},
   "outputs": [],
   "source": [
    "opinion_tag = Authority(nlp)\n",
    "nlp.add_pipe(opinion_tag, last = True)"
   ]
  },
  {
   "cell_type": "code",
   "execution_count": 48,
   "metadata": {},
   "outputs": [],
   "source": [
    "doc = nlp('This is according to them.')"
   ]
  }
 ],
 "metadata": {
  "kernelspec": {
   "display_name": "Python 3",
   "language": "python",
   "name": "python3"
  },
  "language_info": {
   "codemirror_mode": {
    "name": "ipython",
    "version": 3
   },
   "file_extension": ".py",
   "mimetype": "text/x-python",
   "name": "python",
   "nbconvert_exporter": "python",
   "pygments_lexer": "ipython3",
   "version": "3.7.4"
  }
 },
 "nbformat": 4,
 "nbformat_minor": 2
}
