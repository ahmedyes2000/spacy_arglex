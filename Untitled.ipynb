{
 "cells": [
  {
   "cell_type": "code",
   "execution_count": 21,
   "metadata": {},
   "outputs": [],
   "source": [
    "import spacy\n",
    "from spacy.matcher import Matcher \n",
    "from spacy.tokens import Span \n",
    "from spacy import displacy\n",
    "import neuralcoref"
   ]
  },
  {
   "cell_type": "code",
   "execution_count": 64,
   "metadata": {},
   "outputs": [],
   "source": [
    "class Assessment(object):\n",
    "    \n",
    "    def __init__(self, object):\n",
    "        \n",
    "        Span.set_extension(\"assessment\", default = None, force = True)\n",
    "        self.matcher = Matcher(object.vocab)\n",
    "        self.matcher.add(\"Assessment\", None,\n",
    "            \n",
    "            #(our|my) (opinion|understanding) (is|was) that\n",
    "            [{'DEP':'poss'},\n",
    "            {\"LOWER\": {'IN':['understanding', 'opinion']}}, \n",
    "            {'LEMMA': 'be'},\n",
    "            {'LOWER': 'that'}],\n",
    "\n",
    "            # it (is|was) (our|my) (opinion|understanding) (that)?                     \n",
    "            [{'LOWER':'it'},\n",
    "            {'LEMMA': 'be'},\n",
    "            {'DEP': 'poss'},\n",
    "            {'LOWER' :{'IN':['opinion', 'understanding']}},\n",
    "            {'LOWER': 'that', 'OP':'?'}],\n",
    "\n",
    "            #in (our|my) opinion\n",
    "            [{'LOWER': 'in'},\n",
    "             {'DEP': 'poss'},\n",
    "             {'LEMMA': 'opinion'}],\n",
    "\n",
    "            #(our|my) take on\n",
    "            [{'DEP': 'poss'},\n",
    "             {'LOWER': 'take'},\n",
    "             {'LOWER': 'on'}],\n",
    "\n",
    "            #it (seems|seemed) to (us|me) (that)?\n",
    "            [{'LOWER': 'it'},\n",
    "             {'LEMMA': 'seem'},\n",
    "             {'LOWER': 'to'},\n",
    "             {'POS': 'PRON'},\n",
    "             {'LOWER': 'that', 'OP':'?'}],\n",
    "\n",
    "            #it (seems|seemed) (that)?\n",
    "            [{'LOWER': 'it'},\n",
    "             {'LEMMA': 'seem'},\n",
    "             {'LOWER': 'that', 'OP':'?'}],\n",
    "\n",
    "            #it would seem to (us|me)?\n",
    "            [{'LOWER': 'it'},\n",
    "             {'LOWER': 'would'},\n",
    "             {'LOWER': 'seem'},\n",
    "             {'LOWER': 'to'},\n",
    "             {'POS': 'PRON', 'OP':'?'}],\n",
    "\n",
    "            #it would appear to (us|me)?\n",
    "            [{'LOWER': 'it'},\n",
    "             {'LOWER': 'would'},\n",
    "             {'LOWER': 'appear'},\n",
    "             {'LOWER': 'to'},\n",
    "             {'POS': 'PRON', 'OP':'?'}],\n",
    "\n",
    "            #it appear to (us|me)?\n",
    "            [{'LOWER': 'it'},\n",
    "             {'LEMMA': 'appear'},\n",
    "             {'LOWER': 'to'},\n",
    "             {'POS': 'PRON', 'OP':'?'}],\n",
    "\n",
    "            #(the|my|our) ([\\w]+[ ])?point is (that)?\n",
    "            [{'DEP': {'IN':['poss', 'det']}},\n",
    "             {'IS_ALPHA': True, 'OP':'?'},\n",
    "             {'LOWER': 'point'},\n",
    "             {'LEMMA': 'be'},\n",
    "             {'LOWER': 'that', 'OP':'?'}]\n",
    "\n",
    "        )\n",
    "    \n",
    "    def __call__(self, doc):\n",
    "        matches = self.matcher(doc)\n",
    "        for match_id, start, end in matches:\n",
    "            sents = Span(doc, start, end).sent\n",
    "            sent_start, sent_end = sents.start, sents.end\n",
    "            opinion = Span(doc, sent_start, sent_end, label = \"ASS\")\n",
    "            doc._.opinion.append(opinion,)\n",
    "        return doc"
   ]
  },
  {
   "cell_type": "code",
   "execution_count": 3,
   "metadata": {},
   "outputs": [],
   "source": [
    "class spacy_arglex(object):\n",
    "    \n",
    "    def __init__(self, object):\n",
    "        self.nlp = object.load(\"en_core_web_sm\")\n",
    "        \n",
    "        # Set Document Extensions\n",
    "        object.tokens.Doc.set_extension(\"opinion\", default = [], force = True)\n",
    "        \n",
    "        # Set Span extensions\n",
    "        object.tokens.Span.set_extension(\"assessment\", default = None, force = True) \n",
    "        \n",
    "        # Set Token Extensions\n",
    "        object.tokens.Token.set_extension(\"is_emo\", getter = lambda token: token.lemma_ \\\n",
    "                            in ('like', 'adore', 'want', 'prefer', 'love', 'enjoy',\n",
    "                               'adoration', 'want', 'preference', 'love', 'enjoyment',\n",
    "                               'hate', 'dislike', 'disprefer', 'dispreference'), force = True)\n",
    "        \n",
    "        opinion_tag = Assessment(self.nlp)\n",
    "        self.nlp.add_pipe(opinion_tag, last = True)"
   ]
  },
  {
   "cell_type": "code",
   "execution_count": 15,
   "metadata": {},
   "outputs": [],
   "source": [
    "nlp = spacy.load('en_core_web_sm')"
   ]
  },
  {
   "cell_type": "code",
   "execution_count": 16,
   "metadata": {},
   "outputs": [],
   "source": [
    "doc = nlp(\"It was my understanding that burgers are life. However, I do not like seafood. It would seem to me that this is tasty\")"
   ]
  },
  {
   "cell_type": "code",
   "execution_count": 4,
   "metadata": {},
   "outputs": [],
   "source": [
    "test = spacy_arglex(spacy)"
   ]
  },
  {
   "cell_type": "code",
   "execution_count": 5,
   "metadata": {},
   "outputs": [],
   "source": [
    "a = test.nlp(\"It was my understanding that burgers are life. However, I do not like seafood. It would seem to me that this is tasty\")"
   ]
  },
  {
   "cell_type": "code",
   "execution_count": 6,
   "metadata": {},
   "outputs": [
    {
     "data": {
      "text/plain": [
       "'ASS'"
      ]
     },
     "execution_count": 6,
     "metadata": {},
     "output_type": "execute_result"
    }
   ],
   "source": [
    "a._.opinion[0].label_"
   ]
  },
  {
   "cell_type": "code",
   "execution_count": null,
   "metadata": {},
   "outputs": [],
   "source": []
  },
  {
   "cell_type": "code",
   "execution_count": 18,
   "metadata": {},
   "outputs": [],
   "source": [
    "from spacy.tokens import Doc\n",
    "Doc.set_extension(\"opinion\", default = False, force = True)"
   ]
  },
  {
   "cell_type": "code",
   "execution_count": 78,
   "metadata": {},
   "outputs": [],
   "source": [
    "def add_event_ent(matcher, doc, i, matches):\n",
    "    match_id, start, end = matches[i]\n",
    "    opinion = Span(doc, start, end, label=\"Assessment\")\n",
    "    doc.opinion += (opinion,)"
   ]
  },
  {
   "cell_type": "code",
   "execution_count": 280,
   "metadata": {},
   "outputs": [
    {
     "data": {
      "text/plain": [
       "'ASS'"
      ]
     },
     "execution_count": 280,
     "metadata": {},
     "output_type": "execute_result"
    }
   ],
   "source": [
    "a._.opinion[0].label_"
   ]
  },
  {
   "cell_type": "code",
   "execution_count": 208,
   "metadata": {},
   "outputs": [],
   "source": [
    "matcher = Matcher(nlp.vocab)\n",
    "matcher.add(\"assessment\", None ,\n",
    "            [{'DEP':'poss'},\n",
    "            {\"LOWER\": {'IN':['understanding', 'opinion']}}, \n",
    "            {'LEMMA': 'be'},\n",
    "            {'LOWER': 'that'}],\n",
    "\n",
    "            # it (is|was) (our|my) (opinion|understanding) (that)?                     \n",
    "            [{'LOWER':'it'},\n",
    "            {'LEMMA': 'be'},\n",
    "            {'DEP': 'poss'},\n",
    "            {'LOWER' :{'IN':['opinion', 'understanding']}},\n",
    "            {'LOWER': 'that', 'OP':'?'}],\n",
    "\n",
    "            #in (our|my) opinion\n",
    "            [{'LOWER': 'in'},\n",
    "             {'DEP': 'poss'},\n",
    "             {'LEMMA': 'opinion'}],\n",
    "\n",
    "            #(our|my) take on\n",
    "            [{'DEP': 'poss'},\n",
    "             {'LOWER': 'take'},\n",
    "             {'LOWER': 'on'}],\n",
    "\n",
    "            #it (seems|seemed) to (us|me) (that)?\n",
    "            [{'LOWER': 'it'},\n",
    "             {'LEMMA': 'seem'},\n",
    "             {'LOWER': 'to'},\n",
    "             {'POS': 'PRON'},\n",
    "             {'LOWER': 'that', 'OP':'?'}],\n",
    "\n",
    "            #it (seems|seemed) (that)?\n",
    "            [{'LOWER': 'it'},\n",
    "             {'LEMMA': 'seem'},\n",
    "             {'LOWER': 'that', 'OP':'?'}],\n",
    "\n",
    "            #it would seem to (us|me)?\n",
    "            [{'LOWER': 'it'},\n",
    "             {'LOWER': 'would'},\n",
    "             {'LOWER': 'seem'},\n",
    "             {'LOWER': 'to'},\n",
    "             {'POS': 'PRON', 'OP':'?'}],\n",
    "\n",
    "            #it would appear to (us|me)?\n",
    "            [{'LOWER': 'it'},\n",
    "             {'LOWER': 'would'},\n",
    "             {'LOWER': 'appear'},\n",
    "             {'LOWER': 'to'},\n",
    "             {'POS': 'PRON', 'OP':'?'}],\n",
    "\n",
    "            #it appear to (us|me)?\n",
    "            [{'LOWER': 'it'},\n",
    "             {'LEMMA': 'appear'},\n",
    "             {'LOWER': 'to'},\n",
    "             {'POS': 'PRON', 'OP':'?'}],\n",
    "\n",
    "            #(the|my|our) ([\\w]+[ ])?point is (that)?\n",
    "            [{'DEP': {'IN':['poss', 'det']}},\n",
    "             {'IS_ALPHA': True, 'OP':'?'},\n",
    "             {'LOWER': 'point'},\n",
    "             {'LEMMA': 'be'},\n",
    "             {'LOWER': 'that', 'OP':'?'}])"
   ]
  },
  {
   "cell_type": "code",
   "execution_count": 209,
   "metadata": {},
   "outputs": [],
   "source": [
    "matches = matcher(doc)"
   ]
  },
  {
   "cell_type": "code",
   "execution_count": 270,
   "metadata": {},
   "outputs": [
    {
     "data": {
      "text/plain": [
       "9"
      ]
     },
     "execution_count": 270,
     "metadata": {},
     "output_type": "execute_result"
    }
   ],
   "source": [
    "a[4].sent.end"
   ]
  },
  {
   "cell_type": "code",
   "execution_count": 226,
   "metadata": {},
   "outputs": [
    {
     "data": {
      "text/plain": [
       "[(16732015447806033820, 0), (16732015447806033820, 17)]"
      ]
     },
     "execution_count": 226,
     "metadata": {},
     "output_type": "execute_result"
    }
   ],
   "source": [
    "list(set([i[0:2] for i in matches]))"
   ]
  },
  {
   "cell_type": "code",
   "execution_count": 227,
   "metadata": {},
   "outputs": [
    {
     "data": {
      "text/plain": [
       "[(16732015447806033820, 0),\n",
       " (16732015447806033820, 0),\n",
       " (16732015447806033820, 17),\n",
       " (16732015447806033820, 17)]"
      ]
     },
     "execution_count": 227,
     "metadata": {},
     "output_type": "execute_result"
    }
   ],
   "source": [
    "[i[0:2] for i in matches]"
   ]
  },
  {
   "cell_type": "code",
   "execution_count": null,
   "metadata": {},
   "outputs": [],
   "source": [
    "max(matches, key=lambda x: x[2])"
   ]
  },
  {
   "cell_type": "code",
   "execution_count": 65,
   "metadata": {},
   "outputs": [],
   "source": [
    "def arglex(object):\n",
    "    nlp = object.load('en_core_web_sm')\n",
    "    \n",
    "    # Set Document Extensions\n",
    "    object.tokens.Doc.set_extension(\"opinion\", default = [], force = True)\n",
    "    object.tokens.Span.set_extension(\"assessment\", default = None, force = True) \n",
    "    \n",
    "    ass = Assessment(nlp)\n",
    "    nlp.add_pipe(ass, name = 'Assessment', last = True)\n",
    "    return nlp"
   ]
  },
  {
   "cell_type": "code",
   "execution_count": 66,
   "metadata": {},
   "outputs": [],
   "source": [
    "nlp = arglex(spacy)"
   ]
  },
  {
   "cell_type": "code",
   "execution_count": null,
   "metadata": {},
   "outputs": [],
   "source": [
    "nlp = spacy.load('en_core_web_sm')"
   ]
  },
  {
   "cell_type": "code",
   "execution_count": 67,
   "metadata": {},
   "outputs": [],
   "source": [
    "doc = nlp('my understanding was that this is cool.')"
   ]
  },
  {
   "cell_type": "code",
   "execution_count": 70,
   "metadata": {},
   "outputs": [
    {
     "data": {
      "text/plain": [
       "'ASS'"
      ]
     },
     "execution_count": 70,
     "metadata": {},
     "output_type": "execute_result"
    }
   ],
   "source": [
    "doc._.opinion[0].label_"
   ]
  }
 ],
 "metadata": {
  "kernelspec": {
   "display_name": "Python 3",
   "language": "python",
   "name": "python3"
  },
  "language_info": {
   "codemirror_mode": {
    "name": "ipython",
    "version": 3
   },
   "file_extension": ".py",
   "mimetype": "text/x-python",
   "name": "python",
   "nbconvert_exporter": "python",
   "pygments_lexer": "ipython3",
   "version": "3.7.4"
  }
 },
 "nbformat": 4,
 "nbformat_minor": 2
}
