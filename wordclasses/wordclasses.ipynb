{
 "cells": [
  {
   "cell_type": "code",
   "execution_count": 1,
   "metadata": {},
   "outputs": [
    {
     "name": "stderr",
     "output_type": "stream",
     "text": [
      "/opt/anaconda3/lib/python3.7/importlib/_bootstrap.py:219: RuntimeWarning: spacy.morphology.Morphology size changed, may indicate binary incompatibility. Expected 104 from C header, got 112 from PyObject\n",
      "  return f(*args, **kwds)\n",
      "/opt/anaconda3/lib/python3.7/importlib/_bootstrap.py:219: RuntimeWarning: spacy.vocab.Vocab size changed, may indicate binary incompatibility. Expected 96 from C header, got 104 from PyObject\n",
      "  return f(*args, **kwds)\n"
     ]
    }
   ],
   "source": [
    "import spacy\n",
    "from spacy.matcher import Matcher \n",
    "from spacy.tokens import Span \n",
    "from spacy import displacy\n",
    "import spacy\n",
    "import neuralcoref\n",
    "from spacy.tokens import Token"
   ]
  },
  {
   "cell_type": "code",
   "execution_count": 2,
   "metadata": {},
   "outputs": [],
   "source": [
    "nlp = spacy.load(\"en_core_web_sm\")"
   ]
  },
  {
   "cell_type": "code",
   "execution_count": 3,
   "metadata": {},
   "outputs": [
    {
     "name": "stdout",
     "output_type": "stream",
     "text": [
      "#class=\"wordclasses\"\n",
      "#emo1=stative, relational, positive\n",
      "#emo2=stative, relational, negative\n",
      "@EMO1V={like, adore, want, prefer, love, enjoy}\n",
      "@EMO1N={like, adoration, want, preference, love, enjoyment}\n",
      "@EMO2V={hate, dislike, disprefer}\n",
      "@EMO2N={hate, dislike, dispreference}\n",
      "\n"
     ]
    }
   ],
   "source": [
    "with open('wordclasses.tff') as f:\n",
    "    content = f.read()\n",
    "    print(content)"
   ]
  },
  {
   "cell_type": "code",
   "execution_count": 16,
   "metadata": {},
   "outputs": [],
   "source": [
    "def emo1v(token):\n",
    "    if (token.pos_ == 'VERB') & (token.lemma_ in ['like', 'adore', 'want', 'prefer', 'love', 'enjoy']):\n",
    "        return True\n",
    "    else:\n",
    "        return False\n",
    "    \n",
    "def emo1n(token):\n",
    "    if (token.pos_ == 'NOUN') & (token.lemma_ in ['like', 'adoration', 'want', 'preference', 'love', 'enjoyment']):\n",
    "        return True\n",
    "    else:\n",
    "        return False\n",
    "    \n",
    "def emo2v(token):\n",
    "    if (token.pos_ == 'VERB') & (token.lemma_ in ['hate', 'dislike', 'disprefer']):\n",
    "        return True\n",
    "    else:\n",
    "        return False\n",
    "    \n",
    "def emo2n(token):\n",
    "    if (token.pos_ == 'NOUN') & (token.lemma_ in ['hate', 'dislike', 'dispreference']):\n",
    "        return True\n",
    "    else:\n",
    "        return False"
   ]
  },
  {
   "cell_type": "code",
   "execution_count": null,
   "metadata": {},
   "outputs": [],
   "source": []
  },
  {
   "cell_type": "code",
   "execution_count": 17,
   "metadata": {},
   "outputs": [],
   "source": [
    "Token.set_extension(\"is_EMO1V\", getter=emo1v, force = True)\n",
    "Token.set_extension(\"is_EMO1N\", getter=emo1n, force = True)\n",
    "Token.set_extension(\"is_EMO2V\", getter=emo2v, force = True)\n",
    "Token.set_extension(\"is_EMO2N\", getter=emo2n, force = True)"
   ]
  },
  {
   "cell_type": "code",
   "execution_count": 4,
   "metadata": {},
   "outputs": [],
   "source": [
    "Token.set_extension(\"is_EMO1V\", getter = lambda token: token.lemma_ in ('like', 'adore', 'want', 'prefer', 'love', 'enjoy') and token.pos_ == 'VERB', force = True)"
   ]
  },
  {
   "cell_type": "code",
   "execution_count": null,
   "metadata": {},
   "outputs": [],
   "source": []
  },
  {
   "cell_type": "code",
   "execution_count": 6,
   "metadata": {},
   "outputs": [
    {
     "data": {
      "text/plain": [
       "[liked]"
      ]
     },
     "execution_count": 6,
     "metadata": {},
     "output_type": "execute_result"
    }
   ],
   "source": [
    "doc = nlp(\"I did not think I liked this play\")\n",
    "[i for i in doc if i._.is_EMO1V == True]"
   ]
  }
 ],
 "metadata": {
  "kernelspec": {
   "display_name": "Python 3",
   "language": "python",
   "name": "python3"
  },
  "language_info": {
   "codemirror_mode": {
    "name": "ipython",
    "version": 3
   },
   "file_extension": ".py",
   "mimetype": "text/x-python",
   "name": "python",
   "nbconvert_exporter": "python",
   "pygments_lexer": "ipython3",
   "version": "3.7.4"
  }
 },
 "nbformat": 4,
 "nbformat_minor": 2
}
