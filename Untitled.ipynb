{
 "cells": [
  {
   "cell_type": "code",
   "execution_count": 1,
   "metadata": {},
   "outputs": [],
   "source": [
    "from spacy_arglex import arglex"
   ]
  },
  {
   "cell_type": "code",
   "execution_count": 2,
   "metadata": {},
   "outputs": [
    {
     "name": "stderr",
     "output_type": "stream",
     "text": [
      "/opt/anaconda3/lib/python3.7/importlib/_bootstrap.py:219: RuntimeWarning: spacy.morphology.Morphology size changed, may indicate binary incompatibility. Expected 104 from C header, got 112 from PyObject\n",
      "  return f(*args, **kwds)\n",
      "/opt/anaconda3/lib/python3.7/importlib/_bootstrap.py:219: RuntimeWarning: spacy.vocab.Vocab size changed, may indicate binary incompatibility. Expected 96 from C header, got 104 from PyObject\n",
      "  return f(*args, **kwds)\n"
     ]
    }
   ],
   "source": [
    "import spacy\n",
    "from spacy.matcher import Matcher\n",
    "from spacy.tokens import Span, Token, Doc\n",
    "from spacy import displacy\n",
    "import neuralcoref"
   ]
  },
  {
   "cell_type": "code",
   "execution_count": 1,
   "metadata": {},
   "outputs": [],
   "source": [
    "from spacy_arglex import arglex\n",
    "import spacy"
   ]
  },
  {
   "cell_type": "code",
   "execution_count": 2,
   "metadata": {},
   "outputs": [],
   "source": [
    "test = arglex(spacy)"
   ]
  },
  {
   "cell_type": "code",
   "execution_count": 3,
   "metadata": {},
   "outputs": [],
   "source": [
    "a = test('It was my understanding that this was wrong. It was my understanding that I had no choice. It is my opinion no one should see this.')"
   ]
  },
  {
   "cell_type": "code",
   "execution_count": 5,
   "metadata": {},
   "outputs": [],
   "source": [
    "b = test('This was extremely easy')"
   ]
  },
  {
   "cell_type": "code",
   "execution_count": 6,
   "metadata": {},
   "outputs": [
    {
     "name": "stdout",
     "output_type": "stream",
     "text": [
      "(This was extremely easy, 'DIFFICULTY')\n"
     ]
    }
   ],
   "source": [
    "for i in b._.opinion:\n",
    "    print((i, i.label_))"
   ]
  },
  {
   "cell_type": "code",
   "execution_count": 54,
   "metadata": {},
   "outputs": [],
   "source": [
    "import spacy\n",
    "from spacy.tokens import Span, Doc, Token"
   ]
  },
  {
   "cell_type": "code",
   "execution_count": 55,
   "metadata": {},
   "outputs": [],
   "source": [
    "nlp = spacy.load('en_core_web_sm')"
   ]
  },
  {
   "cell_type": "code",
   "execution_count": 56,
   "metadata": {},
   "outputs": [],
   "source": [
    "Doc.set_extension('opinion', default = [], force = True)\n",
    "class Assessment(object):\n",
    "    \n",
    "    def __init__(self, object):\n",
    "        \n",
    "        Span.set_extension(\"assessment\", default = None, force = True)\n",
    "        self.matcher = Matcher(object.vocab)\n",
    "        self.matcher.add(\"Assessment\", None,\n",
    "            \n",
    "            [{'POS':'PRON'},\n",
    "             {'LEMMA': 'want'},\n",
    "             {'LOWER': 'to'},\n",
    "             {'LOWER': {'IN':['highlight', 'emphasize', 'underscore']}}]\n",
    "\n",
    "        )\n",
    "    \n",
    "    def __call__(self, doc):\n",
    "        matches = self.matcher(doc)\n",
    "        for match_id, start, end in matches:\n",
    "            sents = Span(doc, start, end).sent\n",
    "            sent_start, sent_end = sents.start, sents.end\n",
    "            opinion = Span(doc, sent_start, sent_end, label = \"ASS\")\n",
    "            doc._.opinion.append(opinion,)\n",
    "        return doc"
   ]
  },
  {
   "cell_type": "code",
   "execution_count": 57,
   "metadata": {},
   "outputs": [],
   "source": [
    "nlp.add_pipe(Assessment(nlp), 'ass', last = True)"
   ]
  },
  {
   "cell_type": "code",
   "execution_count": 58,
   "metadata": {},
   "outputs": [],
   "source": [
    "doc = nlp('I want to highlight that this is strange')"
   ]
  },
  {
   "cell_type": "code",
   "execution_count": 69,
   "metadata": {},
   "outputs": [
    {
     "data": {
      "text/plain": [
       "<spacy.strings.StringStore at 0x7f88973c84d0>"
      ]
     },
     "execution_count": 69,
     "metadata": {},
     "output_type": "execute_result"
    }
   ],
   "source": [
    "doc.vocab.strings[]"
   ]
  },
  {
   "cell_type": "code",
   "execution_count": null,
   "metadata": {},
   "outputs": [],
   "source": []
  },
  {
   "cell_type": "code",
   "execution_count": 3,
   "metadata": {},
   "outputs": [],
   "source": [
    "class spacy_arglex(object):\n",
    "    \n",
    "    def __init__(self, object):\n",
    "        self.nlp = object.load(\"en_core_web_sm\")\n",
    "        \n",
    "        # Set Document Extensions\n",
    "        object.tokens.Doc.set_extension(\"opinion\", default = [], force = True)\n",
    "        \n",
    "        # Set Span extensions\n",
    "        object.tokens.Span.set_extension(\"assessment\", default = None, force = True) \n",
    "        \n",
    "        # Set Token Extensions\n",
    "        object.tokens.Token.set_extension(\"is_emo\", getter = lambda token: token.lemma_ \\\n",
    "                            in ('like', 'adore', 'want', 'prefer', 'love', 'enjoy',\n",
    "                               'adoration', 'want', 'preference', 'love', 'enjoyment',\n",
    "                               'hate', 'dislike', 'disprefer', 'dispreference'), force = True)\n",
    "        \n",
    "        opinion_tag = Assessment(self.nlp)\n",
    "        self.nlp.add_pipe(opinion_tag, last = True)"
   ]
  },
  {
   "cell_type": "code",
   "execution_count": null,
   "metadata": {},
   "outputs": [],
   "source": []
  },
  {
   "cell_type": "code",
   "execution_count": null,
   "metadata": {},
   "outputs": [],
   "source": []
  },
  {
   "cell_type": "code",
   "execution_count": 15,
   "metadata": {},
   "outputs": [],
   "source": [
    "nlp = spacy.load('en_core_web_sm')"
   ]
  },
  {
   "cell_type": "code",
   "execution_count": 12,
   "metadata": {},
   "outputs": [],
   "source": [
    "from spacy.matcher import Matcher"
   ]
  },
  {
   "cell_type": "code",
   "execution_count": 13,
   "metadata": {},
   "outputs": [],
   "source": [
    "from spacy.tokens import Doc\n",
    "Doc.set_extension(\"opinion\", default = False, force = True)"
   ]
  },
  {
   "cell_type": "code",
   "execution_count": 24,
   "metadata": {},
   "outputs": [],
   "source": [
    "doc = nlp('My whole point was that this is futile.')"
   ]
  },
  {
   "cell_type": "code",
   "execution_count": 26,
   "metadata": {},
   "outputs": [],
   "source": [
    "matcher = Matcher(nlp.vocab)\n",
    "matcher.add(\"assessment\", None ,\n",
    "            [{'DEP':'poss', 'LOWER': 'the'},\n",
    "             {'LOWER': 'whole'},\n",
    "             {'LOWER': {'IN':['point', 'question']}},\n",
    "             {'LEMMA': 'be'}]\n",
    "           )"
   ]
  },
  {
   "cell_type": "code",
   "execution_count": 27,
   "metadata": {},
   "outputs": [],
   "source": [
    "matches = matcher(doc)"
   ]
  },
  {
   "cell_type": "code",
   "execution_count": 28,
   "metadata": {},
   "outputs": [
    {
     "data": {
      "text/plain": [
       "[]"
      ]
     },
     "execution_count": 28,
     "metadata": {},
     "output_type": "execute_result"
    }
   ],
   "source": [
    "matches"
   ]
  },
  {
   "cell_type": "code",
   "execution_count": null,
   "metadata": {},
   "outputs": [],
   "source": [
    "matches"
   ]
  },
  {
   "cell_type": "code",
   "execution_count": 27,
   "metadata": {},
   "outputs": [
    {
     "data": {
      "text/plain": [
       "(16732015447806033820, 19, 23)"
      ]
     },
     "execution_count": 27,
     "metadata": {},
     "output_type": "execute_result"
    }
   ],
   "source": [
    "max(matches, key=lambda x:x[2])"
   ]
  },
  {
   "cell_type": "code",
   "execution_count": 270,
   "metadata": {},
   "outputs": [
    {
     "data": {
      "text/plain": [
       "9"
      ]
     },
     "execution_count": 270,
     "metadata": {},
     "output_type": "execute_result"
    }
   ],
   "source": [
    "a[4].sent.end"
   ]
  },
  {
   "cell_type": "code",
   "execution_count": 226,
   "metadata": {},
   "outputs": [
    {
     "data": {
      "text/plain": [
       "[(16732015447806033820, 0), (16732015447806033820, 17)]"
      ]
     },
     "execution_count": 226,
     "metadata": {},
     "output_type": "execute_result"
    }
   ],
   "source": [
    "list(set([i[0:2] for i in matches]))"
   ]
  },
  {
   "cell_type": "code",
   "execution_count": 227,
   "metadata": {},
   "outputs": [
    {
     "data": {
      "text/plain": [
       "[(16732015447806033820, 0),\n",
       " (16732015447806033820, 0),\n",
       " (16732015447806033820, 17),\n",
       " (16732015447806033820, 17)]"
      ]
     },
     "execution_count": 227,
     "metadata": {},
     "output_type": "execute_result"
    }
   ],
   "source": [
    "[i[0:2] for i in matches]"
   ]
  },
  {
   "cell_type": "code",
   "execution_count": null,
   "metadata": {},
   "outputs": [],
   "source": [
    "max(matches, key=lambda x: x[2])"
   ]
  },
  {
   "cell_type": "code",
   "execution_count": 65,
   "metadata": {},
   "outputs": [],
   "source": [
    "def arglex(object):\n",
    "    nlp = object.load('en_core_web_sm')\n",
    "    \n",
    "    # Set Document Extensions\n",
    "    object.tokens.Doc.set_extension(\"opinion\", default = [], force = True)\n",
    "    object.tokens.Span.set_extension(\"assessment\", default = None, force = True) \n",
    "    \n",
    "    ass = Assessment(nlp)\n",
    "    nlp.add_pipe(ass, name = 'Assessment', last = True)\n",
    "    return nlp"
   ]
  },
  {
   "cell_type": "code",
   "execution_count": 66,
   "metadata": {},
   "outputs": [],
   "source": [
    "nlp = arglex(spacy)"
   ]
  },
  {
   "cell_type": "code",
   "execution_count": null,
   "metadata": {},
   "outputs": [],
   "source": [
    "nlp = spacy.load('en_core_web_sm')"
   ]
  },
  {
   "cell_type": "code",
   "execution_count": 67,
   "metadata": {},
   "outputs": [],
   "source": [
    "doc = nlp('my understanding was that this is cool.')"
   ]
  },
  {
   "cell_type": "code",
   "execution_count": 70,
   "metadata": {},
   "outputs": [
    {
     "data": {
      "text/plain": [
       "'ASS'"
      ]
     },
     "execution_count": 70,
     "metadata": {},
     "output_type": "execute_result"
    }
   ],
   "source": [
    "doc._.opinion[0].label_"
   ]
  },
  {
   "cell_type": "code",
   "execution_count": 2,
   "metadata": {},
   "outputs": [],
   "source": [
    "spacy.tokens.Token.set_extension(\"is_spoken\", getter = lambda token: token.text.lower() in ('uh','um', 'mm-hmm', 'uh-huh', 'huh'), force = True)"
   ]
  }
 ],
 "metadata": {
  "kernelspec": {
   "display_name": "Python 3",
   "language": "python",
   "name": "python3"
  },
  "language_info": {
   "codemirror_mode": {
    "name": "ipython",
    "version": 3
   },
   "file_extension": ".py",
   "mimetype": "text/x-python",
   "name": "python",
   "nbconvert_exporter": "python",
   "pygments_lexer": "ipython3",
   "version": "3.7.4"
  }
 },
 "nbformat": 4,
 "nbformat_minor": 2
}
