{
 "cells": [
  {
   "cell_type": "code",
   "execution_count": 1,
   "metadata": {},
   "outputs": [],
   "source": [
    "import spacy\n",
    "from spacy_arglex import arglex"
   ]
  },
  {
   "cell_type": "code",
   "execution_count": 2,
   "metadata": {},
   "outputs": [],
   "source": [
    "test = arglex(spacy)"
   ]
  },
  {
   "cell_type": "code",
   "execution_count": 3,
   "metadata": {},
   "outputs": [],
   "source": [
    "from spacy_arglex import load_testfile"
   ]
  },
  {
   "cell_type": "markdown",
   "metadata": {},
   "source": [
    "# Assessment"
   ]
  },
  {
   "cell_type": "code",
   "execution_count": 14,
   "metadata": {},
   "outputs": [],
   "source": [
    "assessments = \"\"\"Well, our understanding was that we could buy that here.\n",
    "In my opinion, that is not a good idea.\n",
    "So, my take on this whole thing is as follows.\n",
    "You know it seemed to me that we could do this faster.\n",
    "It would seem to me that there is more to it than that.\n",
    "It would appear to us that his heart's not in it.\n",
    "It appears to me that fashion was the farthest thing from Jesus' mind.\n",
    "My point is that you can't compare the capabilty here.\n",
    "My main point is that you can't compare the two.\n",
    "When I looked at EWS it looked to me as if it did only 2 things.\n",
    "I get the impression that Robin is not a Mac enthusiast.\n",
    "Atiku Abubakar, a second opposition candidate, said: \"My impression is that this is a sham. It is no election.\"\n",
    "In my book this is Sasha's best mix. It is quite simply outstanding.\n",
    "And, to our mind, this is the only correct mode for working with CVS.\n",
    "To our way of thinking, she is a quiet revolutionary.\n",
    "As far as I am concerned there are some bloggers who just plain don't exist to me.\n",
    "Pretty wonderful (if you ask me...)\n",
    "On the other hand, my feeling is that robotically-added links should not automatically confer PageRank.\n",
    "Not from where I am sitting, but does that mean anything?\n",
    "RUMSFELD: Senator, I don't think that's true. I have never painted a rosy picture.\n",
    "All I am Saying is that I am hiking exclusively in no-dogs-allowed parks for some time to come.\n",
    "What we're saying is that there's a massive amount of disquiet about British foreign policy.\n",
    "We're not saying that you don't need coal, but when you do mine the coal there are responsibilities to it. \n",
    "I guess what I'm trying to say is, if I can change, and you can change, everybody can change.\n",
    "So what I mean is that they use the rhetoric of sexual liberation, empowerment. \"\"\""
   ]
  },
  {
   "cell_type": "code",
   "execution_count": 15,
   "metadata": {},
   "outputs": [
    {
     "data": {
      "text/plain": [
       "['Well, our understanding was that we could buy that here.',\n",
       " 'In my opinion, that is not a good idea.',\n",
       " 'So, my take on this whole thing is as follows.',\n",
       " 'You know it seemed to me that we could do this faster.',\n",
       " 'It would seem to me that there is more to it than that.',\n",
       " \"It would appear to us that his heart's not in it.\",\n",
       " \"It appears to me that fashion was the farthest thing from Jesus' mind.\",\n",
       " \"My point is that you can't compare the capabilty here.\",\n",
       " \"My main point is that you can't compare the two.\",\n",
       " 'When I looked at EWS it looked to me as if it did only 2 things.',\n",
       " 'I get the impression that Robin is not a Mac enthusiast.',\n",
       " 'Atiku Abubakar, a second opposition candidate, said: \"My impression is that this is a sham. It is no election.\"',\n",
       " \"In my book this is Sasha's best mix. It is quite simply outstanding.\",\n",
       " 'And, to our mind, this is the only correct mode for working with CVS.',\n",
       " 'To our way of thinking, she is a quiet revolutionary.',\n",
       " \"As far as I am concerned there are some bloggers who just plain don't exist to me.\",\n",
       " 'Pretty wonderful (if you ask me...)',\n",
       " 'On the other hand, my feeling is that robotically-added links should not automatically confer PageRank.',\n",
       " 'Not from where I am sitting, but does that mean anything?',\n",
       " \"RUMSFELD: Senator, I don't think that's true. I have never painted a rosy picture.\",\n",
       " 'All I am Saying is that I am hiking exclusively in no-dogs-allowed parks for some time to come.',\n",
       " \"What we're saying is that there's a massive amount of disquiet about British foreign policy.\",\n",
       " \"We're not saying that you don't need coal, but when you do mine the coal there are responsibilities to it. \",\n",
       " \"I guess what I'm trying to say is, if I can change, and you can change, everybody can change.\",\n",
       " 'So what I mean is that they use the rhetoric of sexual liberation, empowerment. ']"
      ]
     },
     "execution_count": 15,
     "metadata": {},
     "output_type": "execute_result"
    }
   ],
   "source": [
    "assessments.split('\\n')"
   ]
  },
  {
   "cell_type": "code",
   "execution_count": 19,
   "metadata": {},
   "outputs": [],
   "source": [
    "results = []\n",
    "for sent in test.pipe(assessments.split('\\n')):\n",
    "    for opinion in sent._.opinion:\n",
    "        results.append((opinion, opinion.label_))"
   ]
  },
  {
   "cell_type": "code",
   "execution_count": 20,
   "metadata": {},
   "outputs": [
    {
     "data": {
      "text/plain": [
       "[(Well, our understanding was that we could buy that here., 'ASSESSMENT'),\n",
       " (Well, our understanding was that we could buy that here., 'POSSIBILITY'),\n",
       " (In my opinion, that is not a good idea., 'ASSESSMENT'),\n",
       " (So, my take on this whole thing is as follows., 'ASSESSMENT'),\n",
       " (So, my take on this whole thing is as follows., 'CAUSATION'),\n",
       " (You know it seemed to me that we could do this faster., 'ASSESSMENT'),\n",
       " (You know it seemed to me that we could do this faster., 'ASSESSMENT'),\n",
       " (You know it seemed to me that we could do this faster., 'POSSIBILITY'),\n",
       " (It would seem to me that there is more to it than that., 'ASSESSMENT'),\n",
       " (It would appear to us that his heart's not in it., 'ASSESSMENT'),\n",
       " (It appears to me that fashion was the farthest thing from Jesus' mind.,\n",
       "  'ASSESSMENT'),\n",
       " (My point is that you can't compare the capabilty here., 'ASSESSMENT'),\n",
       " (My main point is that you can't compare the two., 'ASSESSMENT'),\n",
       " (I get the impression that Robin is not a Mac enthusiast., 'ASSESSMENT'),\n",
       " (Atiku Abubakar, a second opposition candidate, said: \"My impression is that this is a sham.,\n",
       "  'ASSESSMENT'),\n",
       " (In my book this is Sasha's best mix., 'ASSESSMENT'),\n",
       " (And, to our mind, this is the only correct mode for working with CVS.,\n",
       "  'ASSESSMENT'),\n",
       " (To our way of thinking, she is a quiet revolutionary., 'ASSESSMENT'),\n",
       " (As far as I am concerned there are some bloggers who just plain don't exist to me.,\n",
       "  'ASSESSMENT'),\n",
       " (Pretty wonderful (if you ask me...), 'ASSESSMENT'),\n",
       " (On the other hand, my feeling is that robotically-added links should not automatically confer PageRank.,\n",
       "  'ASSESSMENT'),\n",
       " (On the other hand, my feeling is that robotically-added links should not automatically confer PageRank.,\n",
       "  'EMPHASIS'),\n",
       " (On the other hand, my feeling is that robotically-added links should not automatically confer PageRank.,\n",
       "  'NECESSITY'),\n",
       " (Not from where I am sitting, but does that mean anything?, 'ASSESSMENT'),\n",
       " (All I am Saying is that I am hiking exclusively in no-dogs-allowed parks for some time to come.,\n",
       "  'ASSESSMENT'),\n",
       " (What we're saying is that there's a massive amount of disquiet about British foreign policy.,\n",
       "  'ASSESSMENT'),\n",
       " (We're not saying that you don't need coal, but when you do mine the coal there are responsibilities to it.,\n",
       "  'ASSESSMENT'),\n",
       " (I guess what I'm trying to say is, if I can change, and you can change, everybody can change.,\n",
       "  'ASSESSMENT'),\n",
       " (I guess what I'm trying to say is, if I can change, and you can change, everybody can change.,\n",
       "  'POSSIBILITY'),\n",
       " (So what I mean is that they use the rhetoric of sexual liberation, empowerment.,\n",
       "  'ASSESSMENT'),\n",
       " (So what I mean is that they use the rhetoric of sexual liberation, empowerment.,\n",
       "  'CAUSATION')]"
      ]
     },
     "execution_count": 20,
     "metadata": {},
     "output_type": "execute_result"
    }
   ],
   "source": [
    "results"
   ]
  },
  {
   "cell_type": "code",
   "execution_count": 42,
   "metadata": {},
   "outputs": [],
   "source": [
    "from spacy.tokens import Doc, Span\n",
    "\n",
    "def get_custom_ents(doc):\n",
    "    # This getter receives the doc object it's called on, creates spans for the custom \n",
    "    # entities stored in doc.user_data['custom_ents'] and returns them\n",
    "    custom_ents = doc.user_data.get(('._.', 'opinion', None, None))\n",
    "    return [Span(doc, start, end, label=doc.vocab.strings[label]) \n",
    "            for start, end, label in custom_ents]\n",
    "\n",
    "# Register the extension on the Doc so it's available as doc._.custom_ents\n",
    "Doc.set_extension('custom_ents', getter=get_custom_ents, force = True)"
   ]
  },
  {
   "cell_type": "code",
   "execution_count": 43,
   "metadata": {},
   "outputs": [],
   "source": [
    "w = test('Well, our understanding was that we could buy that here.')"
   ]
  },
  {
   "cell_type": "code",
   "execution_count": 57,
   "metadata": {},
   "outputs": [
    {
     "name": "stdout",
     "output_type": "stream",
     "text": [
      "[Well, our understanding was that we could buy that here., Well, our understanding was that we could buy that here.]\n"
     ]
    }
   ],
   "source": [
    "for i in w.user_data.values():\n",
    "    print(i)"
   ]
  },
  {
   "cell_type": "code",
   "execution_count": 41,
   "metadata": {},
   "outputs": [
    {
     "data": {
      "text/plain": [
       "[Well, our understanding was that we could buy that here.,\n",
       " Well, our understanding was that we could buy that here.]"
      ]
     },
     "execution_count": 41,
     "metadata": {},
     "output_type": "execute_result"
    }
   ],
   "source": [
    "w.user_data.get(('._.', 'opinion', None, None))"
   ]
  }
 ],
 "metadata": {
  "kernelspec": {
   "display_name": "Python 3",
   "language": "python",
   "name": "python3"
  },
  "language_info": {
   "codemirror_mode": {
    "name": "ipython",
    "version": 3
   },
   "file_extension": ".py",
   "mimetype": "text/x-python",
   "name": "python",
   "nbconvert_exporter": "python",
   "pygments_lexer": "ipython3",
   "version": "3.7.4"
  }
 },
 "nbformat": 4,
 "nbformat_minor": 2
}
