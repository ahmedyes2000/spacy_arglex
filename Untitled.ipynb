{
 "cells": [
  {
   "cell_type": "code",
   "execution_count": 6,
   "metadata": {},
   "outputs": [],
   "source": [
    "import json\n",
    "import os"
   ]
  },
  {
   "cell_type": "code",
   "execution_count": 4,
   "metadata": {},
   "outputs": [
    {
     "data": {
      "text/plain": [
       "'/Users/mathiashaugestad/Desktop/MSc Behavioural and Data Science/Political Sentiment Shift/Lexicons/spacy_arglex'"
      ]
     },
     "execution_count": 4,
     "metadata": {},
     "output_type": "execute_result"
    }
   ],
   "source": [
    "os.getcwd()"
   ]
  },
  {
   "cell_type": "code",
   "execution_count": 25,
   "metadata": {},
   "outputs": [],
   "source": [
    "with open('./testfiles/patterntest.json') as f:\n",
    "    out = json.load(f)"
   ]
  },
  {
   "cell_type": "code",
   "execution_count": 27,
   "metadata": {},
   "outputs": [
    {
     "data": {
      "text/plain": [
       "['Well, our understanding was that we could buy that here.',\n",
       " 'In my opinion, that is not a good idea.',\n",
       " 'So, my take on this whole thing is as follows.',\n",
       " 'You know it seemed to me that we could do this faster.',\n",
       " 'It would seem to me that there is more to it than that.',\n",
       " \"It would appear to us that his heart's not in it.\",\n",
       " \"It appears to me that fashion was the farthest thing from Jesus' mind.\",\n",
       " \"My point is that you can't compare the capabilty here.\",\n",
       " \"My main point is that you can't compare the two.\",\n",
       " 'When I looked at EWS it looked to me as if it did only 2 things.',\n",
       " 'I get the impression that Robin is not a Mac enthusiast.',\n",
       " \"Atiku Abubakar, a second opposition candidate, said: 'My impression is that this is a sham. It is no election.'\",\n",
       " \"In my book this is Sasha's best mix. It is quite simply outstanding.\",\n",
       " 'And, to our mind, this is the only correct mode for working with CVS.',\n",
       " 'To our way of thinking, she is a quiet revolutionary.',\n",
       " \"As far as I am concerned there are some bloggers who just plain don't exist to me.\",\n",
       " 'Pretty wonderful (if you ask me...)',\n",
       " 'On the other hand, my feeling is that robotically-added links should not automatically confer PageRank.',\n",
       " 'Not from where I am sitting, but does that mean anything?',\n",
       " \"RUMSFELD: Senator, I don 'edt think that 'eds true. I have never painted a rosy picture.\",\n",
       " 'All I am Saying is that I am hiking exclusively in no-dogs-allowed parks for some time to come.',\n",
       " \"What we're saying is that there's a massive amount of disquiet about British foreign policy.\",\n",
       " \"We're not saying that you don't need coal, but when you do mine the coal there are responsibilities to it.\",\n",
       " \"I guess what I'm trying to say is, if I can change, and you can change, everybody can change.\",\n",
       " 'So what I mean is that they use the rhetoric of sexual liberation, empowerment.']"
      ]
     },
     "execution_count": 27,
     "metadata": {},
     "output_type": "execute_result"
    }
   ],
   "source": [
    "out['assessments']"
   ]
  },
  {
   "cell_type": "code",
   "execution_count": 13,
   "metadata": {},
   "outputs": [
    {
     "ename": "ValueError",
     "evalue": "dictionary update sequence element #0 has length 1; 2 is required",
     "output_type": "error",
     "traceback": [
      "\u001b[0;31m---------------------------------------------------------------------------\u001b[0m",
      "\u001b[0;31mValueError\u001b[0m                                Traceback (most recent call last)",
      "\u001b[0;32m<ipython-input-13-d02bd6361193>\u001b[0m in \u001b[0;36m<module>\u001b[0;34m\u001b[0m\n\u001b[1;32m      1\u001b[0m \u001b[0;32mwith\u001b[0m \u001b[0mopen\u001b[0m\u001b[0;34m(\u001b[0m\u001b[0;34m'./testfiles/patterntest.json'\u001b[0m\u001b[0;34m)\u001b[0m \u001b[0;32mas\u001b[0m \u001b[0mf\u001b[0m\u001b[0;34m:\u001b[0m\u001b[0;34m\u001b[0m\u001b[0;34m\u001b[0m\u001b[0m\n\u001b[0;32m----> 2\u001b[0;31m     \u001b[0mpatterns\u001b[0m \u001b[0;34m=\u001b[0m \u001b[0mdict\u001b[0m\u001b[0;34m(\u001b[0m\u001b[0mf\u001b[0m\u001b[0;34m.\u001b[0m\u001b[0mread\u001b[0m\u001b[0;34m(\u001b[0m\u001b[0;34m)\u001b[0m\u001b[0;34m)\u001b[0m\u001b[0;34m\u001b[0m\u001b[0;34m\u001b[0m\u001b[0m\n\u001b[0m",
      "\u001b[0;31mValueError\u001b[0m: dictionary update sequence element #0 has length 1; 2 is required"
     ]
    }
   ],
   "source": [
    "with open('./testfiles/patterntest.json') as f:\n",
    "    patterns = dict(f.read())"
   ]
  }
 ],
 "metadata": {
  "kernelspec": {
   "display_name": "Python 3",
   "language": "python",
   "name": "python3"
  },
  "language_info": {
   "codemirror_mode": {
    "name": "ipython",
    "version": 3
   },
   "file_extension": ".py",
   "mimetype": "text/x-python",
   "name": "python",
   "nbconvert_exporter": "python",
   "pygments_lexer": "ipython3",
   "version": "3.7.4"
  }
 },
 "nbformat": 4,
 "nbformat_minor": 2
}
